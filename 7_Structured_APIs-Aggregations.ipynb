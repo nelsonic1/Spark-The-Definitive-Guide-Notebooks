{
 "cells": [
  {
   "cell_type": "markdown",
   "metadata": {},
   "source": [
    "# Chapter 7\n",
    "## Structured APIs - Aggregations"
   ]
  },
  {
   "cell_type": "markdown",
   "metadata": {},
   "source": [
    "### Imports"
   ]
  },
  {
   "cell_type": "code",
   "execution_count": 1,
   "metadata": {},
   "outputs": [],
   "source": [
    "from pyspark.sql import SparkSession\n",
    "from pyspark.sql.functions import *\n",
    "from pyspark.sql.window import Window"
   ]
  },
  {
   "cell_type": "markdown",
   "metadata": {},
   "source": [
    "### Instantiate a Spark Session"
   ]
  },
  {
   "cell_type": "code",
   "execution_count": 2,
   "metadata": {},
   "outputs": [],
   "source": [
    "spark = SparkSession.builder.appName(\"Chapter6\").getOrCreate()"
   ]
  },
  {
   "cell_type": "markdown",
   "metadata": {},
   "source": [
    "### Files"
   ]
  },
  {
   "cell_type": "code",
   "execution_count": 3,
   "metadata": {},
   "outputs": [],
   "source": [
    "retail_data = \"./Spark-The-Definitive-Guide/data/retail-data/all/*.csv\""
   ]
  },
  {
   "cell_type": "markdown",
   "metadata": {},
   "source": [
    "### Load data into DataFrames"
   ]
  },
  {
   "cell_type": "code",
   "execution_count": 4,
   "metadata": {},
   "outputs": [],
   "source": [
    "df = spark.read.format(\"csv\")\\\n",
    "  .option(\"header\", \"true\")\\\n",
    "  .option(\"inferSchema\", \"true\")\\\n",
    "  .load(retail_data)\\\n",
    "  .coalesce(5)\n",
    "\n",
    "df.cache()\n",
    "df.createOrReplaceTempView(\"dfTable\")"
   ]
  },
  {
   "cell_type": "code",
   "execution_count": 5,
   "metadata": {},
   "outputs": [
    {
     "name": "stdout",
     "output_type": "stream",
     "text": [
      "+----------------+\n",
      "|count(StockCode)|\n",
      "+----------------+\n",
      "|          541909|\n",
      "+----------------+\n",
      "\n"
     ]
    }
   ],
   "source": [
    "df.select(count(\"StockCode\")).show() # 541909"
   ]
  },
  {
   "cell_type": "code",
   "execution_count": 6,
   "metadata": {},
   "outputs": [
    {
     "name": "stdout",
     "output_type": "stream",
     "text": [
      "+-------------------------+\n",
      "|count(DISTINCT StockCode)|\n",
      "+-------------------------+\n",
      "|                     4070|\n",
      "+-------------------------+\n",
      "\n"
     ]
    }
   ],
   "source": [
    "df.select(countDistinct(\"StockCode\")).show() # 4070"
   ]
  },
  {
   "cell_type": "code",
   "execution_count": 7,
   "metadata": {},
   "outputs": [
    {
     "name": "stdout",
     "output_type": "stream",
     "text": [
      "+--------------------------------+\n",
      "|approx_count_distinct(StockCode)|\n",
      "+--------------------------------+\n",
      "|                            3364|\n",
      "+--------------------------------+\n",
      "\n"
     ]
    }
   ],
   "source": [
    "df.select(approx_count_distinct(\"StockCode\", 0.1)).show() # 3364"
   ]
  },
  {
   "cell_type": "code",
   "execution_count": 8,
   "metadata": {},
   "outputs": [
    {
     "name": "stdout",
     "output_type": "stream",
     "text": [
      "+-----------------------+----------------------+\n",
      "|first(StockCode, false)|last(StockCode, false)|\n",
      "+-----------------------+----------------------+\n",
      "|                 85123A|                 22138|\n",
      "+-----------------------+----------------------+\n",
      "\n"
     ]
    }
   ],
   "source": [
    "df.select(first(\"StockCode\"), last(\"StockCode\")).show()"
   ]
  },
  {
   "cell_type": "code",
   "execution_count": 9,
   "metadata": {},
   "outputs": [
    {
     "name": "stdout",
     "output_type": "stream",
     "text": [
      "+-------------+-------------+\n",
      "|min(Quantity)|max(Quantity)|\n",
      "+-------------+-------------+\n",
      "|       -80995|        80995|\n",
      "+-------------+-------------+\n",
      "\n"
     ]
    }
   ],
   "source": [
    "df.select(min(\"Quantity\"), max(\"Quantity\")).show()"
   ]
  },
  {
   "cell_type": "code",
   "execution_count": 10,
   "metadata": {},
   "outputs": [
    {
     "name": "stdout",
     "output_type": "stream",
     "text": [
      "+-------------+\n",
      "|sum(Quantity)|\n",
      "+-------------+\n",
      "|      5176450|\n",
      "+-------------+\n",
      "\n"
     ]
    }
   ],
   "source": [
    "df.select(sum(\"Quantity\")).show() # 5176450"
   ]
  },
  {
   "cell_type": "code",
   "execution_count": 11,
   "metadata": {},
   "outputs": [
    {
     "name": "stdout",
     "output_type": "stream",
     "text": [
      "+----------------------+\n",
      "|sum(DISTINCT Quantity)|\n",
      "+----------------------+\n",
      "|                 29310|\n",
      "+----------------------+\n",
      "\n"
     ]
    }
   ],
   "source": [
    "df.select(sumDistinct(\"Quantity\")).show() # 29310"
   ]
  },
  {
   "cell_type": "code",
   "execution_count": 12,
   "metadata": {},
   "outputs": [
    {
     "name": "stdout",
     "output_type": "stream",
     "text": [
      "+--------------------------------------+----------------+----------------+\n",
      "|(total_purchases / total_transactions)|   avg_purchases|  mean_purchases|\n",
      "+--------------------------------------+----------------+----------------+\n",
      "|                      9.55224954743324|9.55224954743324|9.55224954743324|\n",
      "+--------------------------------------+----------------+----------------+\n",
      "\n"
     ]
    }
   ],
   "source": [
    "df.select(\n",
    "    count(\"Quantity\").alias(\"total_transactions\"),\n",
    "    sum(\"Quantity\").alias(\"total_purchases\"),\n",
    "    avg(\"Quantity\").alias(\"avg_purchases\"),\n",
    "    expr(\"mean(Quantity)\").alias(\"mean_purchases\"))\\\n",
    "  .selectExpr(\n",
    "    \"total_purchases/total_transactions\",\n",
    "    \"avg_purchases\",\n",
    "    \"mean_purchases\").show()"
   ]
  },
  {
   "cell_type": "code",
   "execution_count": 13,
   "metadata": {},
   "outputs": [
    {
     "name": "stdout",
     "output_type": "stream",
     "text": [
      "+------------------+------------------+--------------------+---------------------+\n",
      "| var_pop(Quantity)|var_samp(Quantity)|stddev_pop(Quantity)|stddev_samp(Quantity)|\n",
      "+------------------+------------------+--------------------+---------------------+\n",
      "|47559.303646609056|47559.391409298754|  218.08095663447796|   218.08115785023418|\n",
      "+------------------+------------------+--------------------+---------------------+\n",
      "\n"
     ]
    }
   ],
   "source": [
    "df.select(var_pop(\"Quantity\"), var_samp(\"Quantity\"),\n",
    "  stddev_pop(\"Quantity\"), stddev_samp(\"Quantity\")).show()"
   ]
  },
  {
   "cell_type": "code",
   "execution_count": 14,
   "metadata": {},
   "outputs": [
    {
     "name": "stdout",
     "output_type": "stream",
     "text": [
      "+-------------------+------------------+\n",
      "| skewness(Quantity)|kurtosis(Quantity)|\n",
      "+-------------------+------------------+\n",
      "|-0.2640755761052562|119768.05495536952|\n",
      "+-------------------+------------------+\n",
      "\n"
     ]
    }
   ],
   "source": [
    "df.select(skewness(\"Quantity\"), kurtosis(\"Quantity\")).show()"
   ]
  },
  {
   "cell_type": "code",
   "execution_count": 15,
   "metadata": {},
   "outputs": [
    {
     "name": "stdout",
     "output_type": "stream",
     "text": [
      "+-------------------------+-------------------------------+------------------------------+\n",
      "|corr(InvoiceNo, Quantity)|covar_samp(InvoiceNo, Quantity)|covar_pop(InvoiceNo, Quantity)|\n",
      "+-------------------------+-------------------------------+------------------------------+\n",
      "|     4.912186085635685E-4|             1052.7280543902734|            1052.7260778741693|\n",
      "+-------------------------+-------------------------------+------------------------------+\n",
      "\n"
     ]
    }
   ],
   "source": [
    "df.select(corr(\"InvoiceNo\", \"Quantity\"), covar_samp(\"InvoiceNo\", \"Quantity\"),\n",
    "    covar_pop(\"InvoiceNo\", \"Quantity\")).show()"
   ]
  },
  {
   "cell_type": "code",
   "execution_count": 16,
   "metadata": {},
   "outputs": [
    {
     "name": "stdout",
     "output_type": "stream",
     "text": [
      "+--------------------+---------------------+\n",
      "|collect_set(Country)|collect_list(Country)|\n",
      "+--------------------+---------------------+\n",
      "|[Portugal, Italy,...| [United Kingdom, ...|\n",
      "+--------------------+---------------------+\n",
      "\n"
     ]
    }
   ],
   "source": [
    "df.agg(collect_set(\"Country\"), collect_list(\"Country\")).show()"
   ]
  },
  {
   "cell_type": "code",
   "execution_count": 17,
   "metadata": {},
   "outputs": [
    {
     "name": "stdout",
     "output_type": "stream",
     "text": [
      "+---------+----+---------------+\n",
      "|InvoiceNo|quan|count(Quantity)|\n",
      "+---------+----+---------------+\n",
      "|   536596|   6|              6|\n",
      "|   536938|  14|             14|\n",
      "|   537252|   1|              1|\n",
      "|   537691|  20|             20|\n",
      "|   538041|   1|              1|\n",
      "+---------+----+---------------+\n",
      "only showing top 5 rows\n",
      "\n"
     ]
    }
   ],
   "source": [
    "df.groupBy(\"InvoiceNo\").agg(\n",
    "    count(\"Quantity\").alias(\"quan\"),\n",
    "    expr(\"count(Quantity)\")).show(5)"
   ]
  },
  {
   "cell_type": "code",
   "execution_count": 18,
   "metadata": {},
   "outputs": [
    {
     "name": "stdout",
     "output_type": "stream",
     "text": [
      "+---------+------------------+--------------------+\n",
      "|InvoiceNo|     avg(Quantity)|stddev_pop(Quantity)|\n",
      "+---------+------------------+--------------------+\n",
      "|   536596|               1.5|  1.1180339887498947|\n",
      "|   536938|33.142857142857146|  20.698023172885524|\n",
      "|   537252|              31.0|                 0.0|\n",
      "|   537691|              8.15|   5.597097462078001|\n",
      "|   538041|              30.0|                 0.0|\n",
      "+---------+------------------+--------------------+\n",
      "only showing top 5 rows\n",
      "\n"
     ]
    }
   ],
   "source": [
    "df.groupBy(\"InvoiceNo\").agg(expr(\"avg(Quantity)\"),expr(\"stddev_pop(Quantity)\"))\\\n",
    "  .show(5)"
   ]
  },
  {
   "cell_type": "code",
   "execution_count": 19,
   "metadata": {},
   "outputs": [],
   "source": [
    "dfWithDate = df.withColumn(\"date\", to_date(col(\"InvoiceDate\"), \"MM/d/yyyy H:mm\"))\n",
    "\n",
    "dfWithDate.createOrReplaceTempView(\"dfWithDate\")"
   ]
  },
  {
   "cell_type": "code",
   "execution_count": 20,
   "metadata": {},
   "outputs": [
    {
     "name": "stdout",
     "output_type": "stream",
     "text": [
      "+----------+----------+--------+------------+-----------------+-------------------+\n",
      "|CustomerId|      date|Quantity|quantityRank|quantityDenseRank|maxPurchaseQuantity|\n",
      "+----------+----------+--------+------------+-----------------+-------------------+\n",
      "|     12346|2011-01-18|   74215|           1|                1|              74215|\n",
      "|     12346|2011-01-18|  -74215|           2|                2|              74215|\n",
      "|     12347|2010-12-07|      36|           1|                1|                 36|\n",
      "|     12347|2010-12-07|      30|           2|                2|                 36|\n",
      "|     12347|2010-12-07|      24|           3|                3|                 36|\n",
      "|     12347|2010-12-07|      12|           4|                4|                 36|\n",
      "|     12347|2010-12-07|      12|           4|                4|                 36|\n",
      "|     12347|2010-12-07|      12|           4|                4|                 36|\n",
      "|     12347|2010-12-07|      12|           4|                4|                 36|\n",
      "|     12347|2010-12-07|      12|           4|                4|                 36|\n",
      "+----------+----------+--------+------------+-----------------+-------------------+\n",
      "only showing top 10 rows\n",
      "\n"
     ]
    }
   ],
   "source": [
    "windowSpec = Window\\\n",
    "  .partitionBy(\"CustomerId\", \"date\")\\\n",
    "  .orderBy(desc(\"Quantity\"))\\\n",
    "  .rowsBetween(Window.unboundedPreceding, Window.currentRow)\n",
    "\n",
    "maxPurchaseQuantity = max(col(\"Quantity\")).over(windowSpec)\n",
    "purchaseDenseRank = dense_rank().over(windowSpec)\n",
    "purchaseRank = rank().over(windowSpec)\n",
    "\n",
    "dfWithDate.where(\"CustomerId IS NOT NULL\").orderBy(\"CustomerId\")\\\n",
    "  .select(\n",
    "    col(\"CustomerId\"),\n",
    "    col(\"date\"),\n",
    "    col(\"Quantity\"),\n",
    "    purchaseRank.alias(\"quantityRank\"),\n",
    "    purchaseDenseRank.alias(\"quantityDenseRank\"),\n",
    "    maxPurchaseQuantity.alias(\"maxPurchaseQuantity\")).show(10)"
   ]
  },
  {
   "cell_type": "code",
   "execution_count": 21,
   "metadata": {},
   "outputs": [],
   "source": [
    "dfNoNull = dfWithDate.drop()\n",
    "dfNoNull.createOrReplaceTempView(\"dfNoNull\")"
   ]
  },
  {
   "cell_type": "code",
   "execution_count": 22,
   "metadata": {},
   "outputs": [
    {
     "name": "stdout",
     "output_type": "stream",
     "text": [
      "+----------+--------------+--------------+\n",
      "|      Date|       Country|total_quantity|\n",
      "+----------+--------------+--------------+\n",
      "|      null|          null|       5176450|\n",
      "|2010-12-01|          EIRE|           243|\n",
      "|2010-12-01|        France|           449|\n",
      "|2010-12-01|United Kingdom|         23949|\n",
      "|2010-12-01|       Germany|           117|\n",
      "|2010-12-01|          null|         26814|\n",
      "|2010-12-01|        Norway|          1852|\n",
      "|2010-12-01|     Australia|           107|\n",
      "|2010-12-01|   Netherlands|            97|\n",
      "|2010-12-02|          null|         21023|\n",
      "+----------+--------------+--------------+\n",
      "only showing top 10 rows\n",
      "\n"
     ]
    }
   ],
   "source": [
    "rolledUpDF = dfNoNull.rollup(\"Date\", \"Country\").agg(sum(\"Quantity\"))\\\n",
    "  .selectExpr(\"Date\", \"Country\", \"`sum(Quantity)` as total_quantity\")\\\n",
    "  .orderBy(\"Date\")\n",
    "rolledUpDF.show(10)"
   ]
  },
  {
   "cell_type": "code",
   "execution_count": 23,
   "metadata": {},
   "outputs": [
    {
     "name": "stdout",
     "output_type": "stream",
     "text": [
      "+----+--------------------+-------------+\n",
      "|Date|             Country|sum(Quantity)|\n",
      "+----+--------------------+-------------+\n",
      "|null|              Cyprus|         6317|\n",
      "|null|           Singapore|         5234|\n",
      "|null|United Arab Emirates|          982|\n",
      "|null|     Channel Islands|         9479|\n",
      "|null|             Lebanon|          386|\n",
      "|null|             Denmark|         8188|\n",
      "|null|                 USA|         1034|\n",
      "|null|               Spain|        26824|\n",
      "|null|              Norway|        19247|\n",
      "|null|      Czech Republic|          592|\n",
      "+----+--------------------+-------------+\n",
      "only showing top 10 rows\n",
      "\n"
     ]
    }
   ],
   "source": [
    "dfNoNull.cube(\"Date\", \"Country\").agg(sum(col(\"Quantity\")))\\\n",
    "  .select(\"Date\", \"Country\", \"sum(Quantity)\").orderBy(\"Date\").show(10)"
   ]
  },
  {
   "cell_type": "code",
   "execution_count": 24,
   "metadata": {},
   "outputs": [
    {
     "name": "stdout",
     "output_type": "stream",
     "text": [
      "-RECORD 0------------------------------------------------------------------\n",
      " date                                                 | 2011-10-07         \n",
      " Australia_sum(CAST(Quantity AS BIGINT))              | null               \n",
      " Australia_sum(UnitPrice)                             | null               \n",
      " Australia_sum(CAST(CustomerID AS BIGINT))            | null               \n",
      " Austria_sum(CAST(Quantity AS BIGINT))                | null               \n",
      " Austria_sum(UnitPrice)                               | null               \n",
      " Austria_sum(CAST(CustomerID AS BIGINT))              | null               \n",
      " Bahrain_sum(CAST(Quantity AS BIGINT))                | null               \n",
      " Bahrain_sum(UnitPrice)                               | null               \n",
      " Bahrain_sum(CAST(CustomerID AS BIGINT))              | null               \n",
      " Belgium_sum(CAST(Quantity AS BIGINT))                | null               \n",
      " Belgium_sum(UnitPrice)                               | null               \n",
      " Belgium_sum(CAST(CustomerID AS BIGINT))              | null               \n",
      " Brazil_sum(CAST(Quantity AS BIGINT))                 | null               \n",
      " Brazil_sum(UnitPrice)                                | null               \n",
      " Brazil_sum(CAST(CustomerID AS BIGINT))               | null               \n",
      " Canada_sum(CAST(Quantity AS BIGINT))                 | null               \n",
      " Canada_sum(UnitPrice)                                | null               \n",
      " Canada_sum(CAST(CustomerID AS BIGINT))               | null               \n",
      " Channel Islands_sum(CAST(Quantity AS BIGINT))        | null               \n",
      " Channel Islands_sum(UnitPrice)                       | null               \n",
      " Channel Islands_sum(CAST(CustomerID AS BIGINT))      | null               \n",
      " Cyprus_sum(CAST(Quantity AS BIGINT))                 | 345                \n",
      " Cyprus_sum(UnitPrice)                                | 136.51000000000002 \n",
      " Cyprus_sum(CAST(CustomerID AS BIGINT))               | 360180             \n",
      " Czech Republic_sum(CAST(Quantity AS BIGINT))         | 325                \n",
      " Czech Republic_sum(UnitPrice)                        | 49.38              \n",
      " Czech Republic_sum(CAST(CustomerID AS BIGINT))       | 127810             \n",
      " Denmark_sum(CAST(Quantity AS BIGINT))                | 637                \n",
      " Denmark_sum(UnitPrice)                               | 27.69              \n",
      " Denmark_sum(CAST(CustomerID AS BIGINT))              | 74364              \n",
      " EIRE_sum(CAST(Quantity AS BIGINT))                   | 448                \n",
      " EIRE_sum(UnitPrice)                                  | 225.09999999999997 \n",
      " EIRE_sum(CAST(CustomerID AS BIGINT))                 | 760461             \n",
      " European Community_sum(CAST(Quantity AS BIGINT))     | null               \n",
      " European Community_sum(UnitPrice)                    | null               \n",
      " European Community_sum(CAST(CustomerID AS BIGINT))   | null               \n",
      " Finland_sum(CAST(Quantity AS BIGINT))                | null               \n",
      " Finland_sum(UnitPrice)                               | null               \n",
      " Finland_sum(CAST(CustomerID AS BIGINT))              | null               \n",
      " France_sum(CAST(Quantity AS BIGINT))                 | 527                \n",
      " France_sum(UnitPrice)                                | 88.43999999999998  \n",
      " France_sum(CAST(CustomerID AS BIGINT))               | 483504             \n",
      " Germany_sum(CAST(Quantity AS BIGINT))                | 2053               \n",
      " Germany_sum(UnitPrice)                               | 327.79999999999995 \n",
      " Germany_sum(CAST(CustomerID AS BIGINT))              | 1150698            \n",
      " Greece_sum(CAST(Quantity AS BIGINT))                 | null               \n",
      " Greece_sum(UnitPrice)                                | null               \n",
      " Greece_sum(CAST(CustomerID AS BIGINT))               | null               \n",
      " Hong Kong_sum(CAST(Quantity AS BIGINT))              | null               \n",
      " Hong Kong_sum(UnitPrice)                             | null               \n",
      " Hong Kong_sum(CAST(CustomerID AS BIGINT))            | null               \n",
      " Iceland_sum(CAST(Quantity AS BIGINT))                | null               \n",
      " Iceland_sum(UnitPrice)                               | null               \n",
      " Iceland_sum(CAST(CustomerID AS BIGINT))              | null               \n",
      " Israel_sum(CAST(Quantity AS BIGINT))                 | null               \n",
      " Israel_sum(UnitPrice)                                | null               \n",
      " Israel_sum(CAST(CustomerID AS BIGINT))               | null               \n",
      " Italy_sum(CAST(Quantity AS BIGINT))                  | null               \n",
      " Italy_sum(UnitPrice)                                 | null               \n",
      " Italy_sum(CAST(CustomerID AS BIGINT))                | null               \n",
      " Japan_sum(CAST(Quantity AS BIGINT))                  | null               \n",
      " Japan_sum(UnitPrice)                                 | null               \n",
      " Japan_sum(CAST(CustomerID AS BIGINT))                | null               \n",
      " Lebanon_sum(CAST(Quantity AS BIGINT))                | null               \n",
      " Lebanon_sum(UnitPrice)                               | null               \n",
      " Lebanon_sum(CAST(CustomerID AS BIGINT))              | null               \n",
      " Lithuania_sum(CAST(Quantity AS BIGINT))              | null               \n",
      " Lithuania_sum(UnitPrice)                             | null               \n",
      " Lithuania_sum(CAST(CustomerID AS BIGINT))            | null               \n",
      " Malta_sum(CAST(Quantity AS BIGINT))                  | null               \n",
      " Malta_sum(UnitPrice)                                 | null               \n",
      " Malta_sum(CAST(CustomerID AS BIGINT))                | null               \n",
      " Netherlands_sum(CAST(Quantity AS BIGINT))            | 212                \n",
      " Netherlands_sum(UnitPrice)                           | 25.35              \n",
      " Netherlands_sum(CAST(CustomerID AS BIGINT))          | 140558             \n",
      " Norway_sum(CAST(Quantity AS BIGINT))                 | null               \n",
      " Norway_sum(UnitPrice)                                | null               \n",
      " Norway_sum(CAST(CustomerID AS BIGINT))               | null               \n",
      " Poland_sum(CAST(Quantity AS BIGINT))                 | null               \n",
      " Poland_sum(UnitPrice)                                | null               \n",
      " Poland_sum(CAST(CustomerID AS BIGINT))               | null               \n",
      " Portugal_sum(CAST(Quantity AS BIGINT))               | null               \n",
      " Portugal_sum(UnitPrice)                              | null               \n",
      " Portugal_sum(CAST(CustomerID AS BIGINT))             | null               \n",
      " RSA_sum(CAST(Quantity AS BIGINT))                    | null               \n",
      " RSA_sum(UnitPrice)                                   | null               \n",
      " RSA_sum(CAST(CustomerID AS BIGINT))                  | null               \n",
      " Saudi Arabia_sum(CAST(Quantity AS BIGINT))           | null               \n",
      " Saudi Arabia_sum(UnitPrice)                          | null               \n",
      " Saudi Arabia_sum(CAST(CustomerID AS BIGINT))         | null               \n",
      " Singapore_sum(CAST(Quantity AS BIGINT))              | null               \n",
      " Singapore_sum(UnitPrice)                             | null               \n",
      " Singapore_sum(CAST(CustomerID AS BIGINT))            | null               \n",
      " Spain_sum(CAST(Quantity AS BIGINT))                  | 227                \n",
      " Spain_sum(UnitPrice)                                 | 123.08000000000001 \n",
      " Spain_sum(CAST(CustomerID AS BIGINT))                | 275880             \n",
      " Sweden_sum(CAST(Quantity AS BIGINT))                 | null               \n",
      " Sweden_sum(UnitPrice)                                | null               \n",
      " Sweden_sum(CAST(CustomerID AS BIGINT))               | null               \n",
      " Switzerland_sum(CAST(Quantity AS BIGINT))            | null               \n",
      " Switzerland_sum(UnitPrice)                           | null               \n",
      " Switzerland_sum(CAST(CustomerID AS BIGINT))          | null               \n",
      " USA_sum(CAST(Quantity AS BIGINT))                    | null               \n",
      " USA_sum(UnitPrice)                                   | null               \n",
      " USA_sum(CAST(CustomerID AS BIGINT))                  | null               \n",
      " United Arab Emirates_sum(CAST(Quantity AS BIGINT))   | null               \n",
      " United Arab Emirates_sum(UnitPrice)                  | null               \n",
      " United Arab Emirates_sum(CAST(CustomerID AS BIGINT)) | null               \n",
      " United Kingdom_sum(CAST(Quantity AS BIGINT))         | 25657              \n",
      " United Kingdom_sum(UnitPrice)                        | 12425.409999999976 \n",
      " United Kingdom_sum(CAST(CustomerID AS BIGINT))       | 27566889           \n",
      " Unspecified_sum(CAST(Quantity AS BIGINT))            | null               \n",
      " Unspecified_sum(UnitPrice)                           | null               \n",
      " Unspecified_sum(CAST(CustomerID AS BIGINT))          | null               \n",
      "only showing top 1 row\n",
      "\n"
     ]
    }
   ],
   "source": [
    "pivoted = dfWithDate.groupBy(\"date\").pivot(\"Country\").sum()\n",
    "pivoted.show(1, vertical=True)"
   ]
  },
  {
   "cell_type": "code",
   "execution_count": 25,
   "metadata": {},
   "outputs": [
    {
     "name": "stdout",
     "output_type": "stream",
     "text": [
      "+----------+---------------------------------+\n",
      "|      date|USA_sum(CAST(Quantity AS BIGINT))|\n",
      "+----------+---------------------------------+\n",
      "|2011-12-06|                             null|\n",
      "|2011-12-09|                             null|\n",
      "|2011-12-08|                             -196|\n",
      "|2011-12-07|                             null|\n",
      "+----------+---------------------------------+\n",
      "\n"
     ]
    }
   ],
   "source": [
    "pivoted.where(\"date > '2011-12-05'\")\\\n",
    "  .select(\"date\", \"`USA_sum(CAST(Quantity AS BIGINT))`\")\\\n",
    "  .show()"
   ]
  }
 ],
 "metadata": {
  "kernelspec": {
   "display_name": "pyspark",
   "language": "python",
   "name": "pyspark"
  },
  "language_info": {
   "codemirror_mode": {
    "name": "ipython",
    "version": 3
   },
   "file_extension": ".py",
   "mimetype": "text/x-python",
   "name": "python",
   "nbconvert_exporter": "python",
   "pygments_lexer": "ipython3",
   "version": "3.7.4"
  }
 },
 "nbformat": 4,
 "nbformat_minor": 4
}
