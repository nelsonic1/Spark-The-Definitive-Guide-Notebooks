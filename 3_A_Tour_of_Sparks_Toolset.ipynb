{
 "cells": [
  {
   "cell_type": "markdown",
   "metadata": {},
   "source": [
    "# Chapter 3\n",
    "## A Tour of Sparks Toolset"
   ]
  },
  {
   "cell_type": "markdown",
   "metadata": {},
   "source": [
    "### Imports"
   ]
  },
  {
   "cell_type": "code",
   "execution_count": 1,
   "metadata": {},
   "outputs": [],
   "source": [
    "import time\n",
    "\n",
    "from pyspark.sql import SparkSession, Row\n",
    "from pyspark.sql.functions import window, column, desc, col, date_format\n",
    "\n",
    "from pyspark.ml import Pipeline\n",
    "from pyspark.ml.clustering import KMeans\n",
    "from pyspark.ml.feature import (StringIndexer,\n",
    "                                OneHotEncoder,\n",
    "                                VectorAssembler)"
   ]
  },
  {
   "cell_type": "markdown",
   "metadata": {},
   "source": [
    "### Instantiate a Spark Session"
   ]
  },
  {
   "cell_type": "code",
   "execution_count": 2,
   "metadata": {},
   "outputs": [],
   "source": [
    "spark = SparkSession.builder.appName(\"Chapter3\").getOrCreate()"
   ]
  },
  {
   "cell_type": "markdown",
   "metadata": {},
   "source": [
    "### Files"
   ]
  },
  {
   "cell_type": "code",
   "execution_count": 3,
   "metadata": {},
   "outputs": [],
   "source": [
    "retailData = \"Spark-The-Definitive-Guide/data/retail-data/by-day/*.csv\""
   ]
  },
  {
   "cell_type": "markdown",
   "metadata": {},
   "source": [
    "### Load Files Into DataFrames"
   ]
  },
  {
   "cell_type": "code",
   "execution_count": 4,
   "metadata": {},
   "outputs": [],
   "source": [
    "staticDataFrame = spark.read.format(\"csv\")\\\n",
    "                      .option(\"header\", \"true\")\\\n",
    "                      .option(\"inferSchema\", \"true\")\\\n",
    "                      .load(retailData)"
   ]
  },
  {
   "cell_type": "code",
   "execution_count": 5,
   "metadata": {},
   "outputs": [
    {
     "data": {
      "text/plain": [
       "StructType(List(StructField(InvoiceNo,StringType,true),StructField(StockCode,StringType,true),StructField(Description,StringType,true),StructField(Quantity,IntegerType,true),StructField(InvoiceDate,TimestampType,true),StructField(UnitPrice,DoubleType,true),StructField(CustomerID,DoubleType,true),StructField(Country,StringType,true)))"
      ]
     },
     "execution_count": 5,
     "metadata": {},
     "output_type": "execute_result"
    }
   ],
   "source": [
    "staticDataFrame.createOrReplaceTempView(\"retail_data\")\n",
    "staticSchema = staticDataFrame.schema\n",
    "\n",
    "staticSchema"
   ]
  },
  {
   "cell_type": "code",
   "execution_count": 6,
   "metadata": {},
   "outputs": [
    {
     "name": "stdout",
     "output_type": "stream",
     "text": [
      "+----------+--------------------+------------------+\n",
      "|CustomerId|              window|   sum(total_cost)|\n",
      "+----------+--------------------+------------------+\n",
      "|   17450.0|[2011-09-19 21:00...|          71601.44|\n",
      "|      null|[2011-11-13 20:00...|          55316.08|\n",
      "|      null|[2011-11-06 20:00...|          42939.17|\n",
      "|      null|[2011-03-28 21:00...| 33521.39999999998|\n",
      "|      null|[2011-12-07 20:00...|31975.590000000007|\n",
      "+----------+--------------------+------------------+\n",
      "only showing top 5 rows\n",
      "\n"
     ]
    }
   ],
   "source": [
    "staticDataFrame\\\n",
    "      .selectExpr(\n",
    "        \"CustomerId\",\n",
    "        \"(UnitPrice * Quantity) as total_cost\",\n",
    "        \"InvoiceDate\")\\\n",
    "      .groupBy(\n",
    "        col(\"CustomerId\"), window(col(\"InvoiceDate\"), \"1 day\"))\\\n",
    "      .sum(\"total_cost\")\\\n",
    "      .sort(desc(\"sum(total_cost)\"))\\\n",
    "      .show(5)\n"
   ]
  },
  {
   "cell_type": "code",
   "execution_count": 7,
   "metadata": {},
   "outputs": [],
   "source": [
    "streamingDataFrame = spark.readStream\\\n",
    "                            .schema(staticSchema)\\\n",
    "                            .option(\"maxFilesPerTrigger\", 1)\\\n",
    "                            .format(\"csv\")\\\n",
    "                            .option(\"header\", \"true\")\\\n",
    "                            .load(retailData)"
   ]
  },
  {
   "cell_type": "code",
   "execution_count": 8,
   "metadata": {},
   "outputs": [],
   "source": [
    "purchaseByCustomerPerHour = streamingDataFrame\\\n",
    "                                  .selectExpr(\n",
    "                                    \"CustomerId\",\n",
    "                                    \"(UnitPrice * Quantity) as total_cost\",\n",
    "                                    \"InvoiceDate\")\\\n",
    "                                  .groupBy(\n",
    "                                    col(\"CustomerId\"), window(col(\"InvoiceDate\"), \"1 day\"))\\\n",
    "                                  .sum(\"total_cost\")"
   ]
  },
  {
   "cell_type": "code",
   "execution_count": 9,
   "metadata": {},
   "outputs": [
    {
     "data": {
      "text/plain": [
       "<pyspark.sql.streaming.StreamingQuery at 0x11c24c790>"
      ]
     },
     "execution_count": 9,
     "metadata": {},
     "output_type": "execute_result"
    }
   ],
   "source": [
    "purchaseByCustomerPerHour.writeStream\\\n",
    "                        .format(\"memory\")\\\n",
    "                        .queryName(\"customer_purchases\")\\\n",
    "                        .outputMode(\"complete\")\\\n",
    "                        .start()"
   ]
  },
  {
   "cell_type": "code",
   "execution_count": 10,
   "metadata": {},
   "outputs": [
    {
     "name": "stdout",
     "output_type": "stream",
     "text": [
      "+----------+--------------------+------------------+\n",
      "|CustomerId|              window|   sum(total_cost)|\n",
      "+----------+--------------------+------------------+\n",
      "|   12415.0|[2011-03-02 20:00...|          16558.14|\n",
      "|      null|[2011-03-02 20:00...| 3538.750000000001|\n",
      "|   17416.0|[2011-03-02 20:00...|           2114.71|\n",
      "|   18102.0|[2011-03-02 20:00...|            1396.0|\n",
      "|   16709.0|[2011-03-02 20:00...|1120.5300000000002|\n",
      "+----------+--------------------+------------------+\n",
      "only showing top 5 rows\n",
      "\n"
     ]
    }
   ],
   "source": [
    "time.sleep(15) # to allow time for the data to start streaming in\n",
    "\n",
    "spark.sql(\"\"\"\n",
    "          SELECT *\n",
    "          FROM customer_purchases\n",
    "          ORDER BY `sum(total_cost)` DESC\n",
    "          \"\"\")\\\n",
    "          .show(5)"
   ]
  },
  {
   "cell_type": "code",
   "execution_count": 11,
   "metadata": {
    "scrolled": true
   },
   "outputs": [
    {
     "data": {
      "text/plain": [
       "True"
      ]
     },
     "execution_count": 11,
     "metadata": {},
     "output_type": "execute_result"
    }
   ],
   "source": [
    "streamingDataFrame.isStreaming"
   ]
  },
  {
   "cell_type": "code",
   "execution_count": 12,
   "metadata": {},
   "outputs": [
    {
     "name": "stdout",
     "output_type": "stream",
     "text": [
      "+----------+--------------------+------------------+\n",
      "|CustomerId|              window|   sum(total_cost)|\n",
      "+----------+--------------------+------------------+\n",
      "|   17567.0|[2011-03-02 20:00...|            535.38|\n",
      "|   18218.0|[2011-03-02 20:00...|            309.38|\n",
      "|   12565.0|[2011-03-02 20:00...|            -14.75|\n",
      "|   15932.0|[2011-03-02 20:00...|             -7.65|\n",
      "|   18102.0|[2011-03-02 20:00...|            1396.0|\n",
      "|   12500.0|[2011-03-02 20:00...|            249.84|\n",
      "|   15257.0|[2011-03-02 20:00...|             -85.0|\n",
      "|   15719.0|[2011-03-02 20:00...|            183.65|\n",
      "|   17856.0|[2011-03-02 20:00...|482.81000000000006|\n",
      "|   17017.0|[2011-03-02 20:00...|            -10.15|\n",
      "|   13630.0|[2011-03-02 20:00...|             -14.4|\n",
      "|   13476.0|[2011-03-02 20:00...| 727.5999999999999|\n",
      "|   14239.0|[2011-03-02 20:00...|             -56.1|\n",
      "|   13715.0|[2011-03-02 20:00...|            137.49|\n",
      "|   17873.0|[2011-03-02 20:00...|485.78000000000003|\n",
      "|   15005.0|[2011-03-02 20:00...|            277.57|\n",
      "|   12727.0|[2011-03-02 20:00...|            573.16|\n",
      "|   16957.0|[2011-03-02 20:00...|            114.84|\n",
      "|   17789.0|[2011-03-02 20:00...|             225.9|\n",
      "|   17374.0|[2011-03-02 20:00...|191.95000000000005|\n",
      "+----------+--------------------+------------------+\n",
      "only showing top 20 rows\n",
      "\n"
     ]
    }
   ],
   "source": [
    "spark.sql(\"SELECT * FROM customer_purchases\").show()"
   ]
  },
  {
   "cell_type": "code",
   "execution_count": 13,
   "metadata": {},
   "outputs": [],
   "source": [
    "preppedDataFrame = staticDataFrame\\\n",
    "                      .na.fill(0)\\\n",
    "                      .withColumn(\"day_of_week\", date_format(col(\"InvoiceDate\"), \"EEEE\"))\\\n",
    "                      .coalesce(5)"
   ]
  },
  {
   "cell_type": "code",
   "execution_count": 14,
   "metadata": {},
   "outputs": [],
   "source": [
    "trainDataFrame = preppedDataFrame\\\n",
    "                      .where(\"InvoiceDate < '2011-07-01'\")\n",
    "testDataFrame = preppedDataFrame\\\n",
    "                      .where(\"InvoiceDate >= '2011-07-01'\")"
   ]
  },
  {
   "cell_type": "code",
   "execution_count": 15,
   "metadata": {},
   "outputs": [],
   "source": [
    "indexer = StringIndexer()\\\n",
    "              .setInputCol(\"day_of_week\")\\\n",
    "              .setOutputCol(\"day_of_week_index\")\n",
    "\n",
    "encoder = OneHotEncoder()\\\n",
    "              .setInputCol(\"day_of_week_index\")\\\n",
    "              .setOutputCol(\"day_of_week_encoded\")\n",
    "\n",
    "vectorAssembler = VectorAssembler()\\\n",
    "              .setInputCols([\"UnitPrice\", \"Quantity\", \"day_of_week_encoded\"])\\\n",
    "              .setOutputCol(\"features\")\n",
    "\n",
    "transformationPipeline = Pipeline()\\\n",
    "              .setStages([indexer, \n",
    "                          encoder, \n",
    "                          vectorAssembler])"
   ]
  },
  {
   "cell_type": "code",
   "execution_count": 16,
   "metadata": {},
   "outputs": [],
   "source": [
    "fittedPipeline = transformationPipeline.fit(trainDataFrame)"
   ]
  },
  {
   "cell_type": "code",
   "execution_count": 17,
   "metadata": {},
   "outputs": [],
   "source": [
    "transformedTraining = fittedPipeline.transform(trainDataFrame)"
   ]
  },
  {
   "cell_type": "code",
   "execution_count": 18,
   "metadata": {},
   "outputs": [
    {
     "name": "stdout",
     "output_type": "stream",
     "text": [
      "-RECORD 0-----------------------------------------\n",
      " InvoiceNo           | 537226                     \n",
      " StockCode           | 22811                      \n",
      " Description         | SET OF 6 T-LIGHTS CACTI    \n",
      " Quantity            | 6                          \n",
      " InvoiceDate         | 2010-12-06 08:34:00        \n",
      " UnitPrice           | 2.95                       \n",
      " CustomerID          | 15987.0                    \n",
      " Country             | United Kingdom             \n",
      " day_of_week         | Monday                     \n",
      " day_of_week_index   | 2.0                        \n",
      " day_of_week_encoded | (5,[2],[1.0])              \n",
      " features            | (7,[0,1,4],[2.95,6.0,1.0]) \n",
      "only showing top 1 row\n",
      "\n"
     ]
    }
   ],
   "source": [
    "transformedTraining.show(1, vertical=True, truncate=False)"
   ]
  },
  {
   "cell_type": "code",
   "execution_count": 19,
   "metadata": {},
   "outputs": [],
   "source": [
    "kmeans = KMeans()\\\n",
    "  .setK(20)\\\n",
    "  .setSeed(1)"
   ]
  },
  {
   "cell_type": "code",
   "execution_count": 20,
   "metadata": {},
   "outputs": [],
   "source": [
    "kmModel = kmeans.fit(transformedTraining)"
   ]
  },
  {
   "cell_type": "code",
   "execution_count": 21,
   "metadata": {},
   "outputs": [],
   "source": [
    "transformedTest = fittedPipeline.transform(testDataFrame)"
   ]
  },
  {
   "cell_type": "code",
   "execution_count": 22,
   "metadata": {},
   "outputs": [
    {
     "name": "stdout",
     "output_type": "stream",
     "text": [
      "-RECORD 0------------------------------------------\n",
      " InvoiceNo           | 580538                      \n",
      " StockCode           | 23084                       \n",
      " Description         | RABBIT NIGHT LIGHT          \n",
      " Quantity            | 48                          \n",
      " InvoiceDate         | 2011-12-05 08:38:00         \n",
      " UnitPrice           | 1.79                        \n",
      " CustomerID          | 14075.0                     \n",
      " Country             | United Kingdom              \n",
      " day_of_week         | Monday                      \n",
      " day_of_week_index   | 2.0                         \n",
      " day_of_week_encoded | (5,[2],[1.0])               \n",
      " features            | (7,[0,1,4],[1.79,48.0,1.0]) \n",
      "only showing top 1 row\n",
      "\n"
     ]
    }
   ],
   "source": [
    "transformedTest.show(1, vertical=True, truncate=False)"
   ]
  },
  {
   "cell_type": "code",
   "execution_count": 23,
   "metadata": {},
   "outputs": [
    {
     "data": {
      "text/plain": [
       "DataFrame[_1: bigint]"
      ]
     },
     "execution_count": 23,
     "metadata": {},
     "output_type": "execute_result"
    }
   ],
   "source": [
    "spark.sparkContext.parallelize([Row(1), Row(2), Row(3)]).toDF()"
   ]
  }
 ],
 "metadata": {
  "kernelspec": {
   "display_name": "pyspark",
   "language": "python",
   "name": "pyspark"
  },
  "language_info": {
   "codemirror_mode": {
    "name": "ipython",
    "version": 3
   },
   "file_extension": ".py",
   "mimetype": "text/x-python",
   "name": "python",
   "nbconvert_exporter": "python",
   "pygments_lexer": "ipython3",
   "version": "3.7.4"
  }
 },
 "nbformat": 4,
 "nbformat_minor": 4
}
